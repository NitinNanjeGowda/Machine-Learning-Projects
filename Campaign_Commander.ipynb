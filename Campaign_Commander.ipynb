{
  "nbformat": 4,
  "nbformat_minor": 0,
  "metadata": {
    "colab": {
      "provenance": [],
      "gpuType": "T4"
    },
    "kernelspec": {
      "name": "python3",
      "display_name": "Python 3"
    },
    "language_info": {
      "name": "python"
    },
    "accelerator": "GPU"
  },
  "cells": [
    {
      "cell_type": "code",
      "execution_count": 1,
      "metadata": {
        "colab": {
          "base_uri": "https://localhost:8080/"
        },
        "id": "FzEQkvgVVq9G",
        "outputId": "53481371-a381-48f9-9f71-9d31d6ff588d"
      },
      "outputs": [
        {
          "output_type": "execute_result",
          "data": {
            "text/plain": [
              "(   age        income  web_visits  prior_purch segment  treatment  purchase\n",
              " 0   61  22266.325397          20            1       A          0         0\n",
              " 1   38  51643.157633          26            0       A          0         0\n",
              " 2   55  16378.150288           1            0       B          1         0\n",
              " 3   29  32014.151079          20            0       E          1         0\n",
              " 4   71  68614.269567          20            0       D          0         0,\n",
              " np.float64(0.51386),\n",
              " np.float64(0.19176))"
            ]
          },
          "metadata": {},
          "execution_count": 1
        }
      ],
      "source": [
        "# === Marketoria synthetic uplift dataset ===\n",
        "import numpy as np, pandas as pd\n",
        "rng = np.random.default_rng(22)\n",
        "n = 100_000\n",
        "\n",
        "# features\n",
        "age = rng.integers(18, 75, n)\n",
        "income = np.exp(rng.normal(10.8, 0.6, n))  # log-normal\n",
        "web_visits = rng.integers(0, 30, n)\n",
        "prior_purch = rng.binomial(1, 0.25, n)\n",
        "segment = rng.choice(list(\"ABCDE\"), n, p=[.15,.25,.18,.22,.20])\n",
        "\n",
        "# assign treatment (randomized but slightly imbalanced by segment to test robustness)\n",
        "p_treat = np.where(segment=='B', 0.55, 0.50)\n",
        "T = rng.binomial(1, p_treat)\n",
        "\n",
        "# baseline conversion logit\n",
        "logit_base = (\n",
        "    -3.0 + 0.03*(age-40) + 0.00001*(income-60_000) + 0.05*web_visits\n",
        "    + 0.8*prior_purch + np.where(segment=='E', 0.2, 0) - np.where(segment=='A', 0.2, 0)\n",
        ")\n",
        "\n",
        "# heterogeneous treatment effect (uplift) depends on features\n",
        "tau = (\n",
        "    0.6*(web_visits>10) + 0.4*prior_purch + 0.000006*(income-60_000)\n",
        "    - 0.02*(age-40) + np.where(segment=='B', 0.2, 0) - np.where(segment=='C', 0.1, 0)\n",
        ")\n",
        "# cap uplift to keep probabilities valid\n",
        "tau = np.clip(tau, -1.5, 1.5)\n",
        "\n",
        "# final purchase probability\n",
        "logit = logit_base + T * tau\n",
        "p = 1/(1+np.exp(-logit))\n",
        "y = rng.binomial(1, np.clip(p, 0, 0.999))\n",
        "\n",
        "df = pd.DataFrame({\n",
        "    \"age\":age,\"income\":income,\"web_visits\":web_visits,\"prior_purch\":prior_purch,\n",
        "    \"segment\":segment,\"treatment\":T,\"purchase\":y\n",
        "})\n",
        "df.to_csv(\"marketoria_uplift.csv\", index=False)\n",
        "df.head(), df[\"treatment\"].mean(), df[\"purchase\"].mean()\n"
      ]
    },
    {
      "cell_type": "code",
      "source": [
        "import pandas as pd, scipy.stats as st\n",
        "df = pd.read_csv(\"marketoria_uplift.csv\")\n",
        "\n",
        "# 1) Balance checks (treatment vs control distributions)\n",
        "for col in [\"age\",\"income\",\"web_visits\"]:\n",
        "    t = df.loc[df.treatment==1, col]; c = df.loc[df.treatment==0, col]\n",
        "    print(col, \"KS p=\", st.ks_2samp(t, c, alternative=\"two-sided\").pvalue)\n",
        "\n",
        "for col in [\"prior_purch\",\"segment\"]:\n",
        "    ct = pd.crosstab(df[col], df[\"treatment\"], normalize=\"columns\")\n",
        "    chi2, p, *_ = st.chi2_contingency(pd.crosstab(df[col], df[\"treatment\"]))\n",
        "    print(col, \"Chi2 p=\", p)\n",
        "\n",
        "# 2) Raw uplift sanity: difference in means\n",
        "uplift_dm = df.loc[df.treatment==1, \"purchase\"].mean() - df.loc[df.treatment==0, \"purchase\"].mean()\n",
        "uplift_dm\n"
      ],
      "metadata": {
        "colab": {
          "base_uri": "https://localhost:8080/"
        },
        "id": "JgCCEfzZVtrO",
        "outputId": "90fbfbf3-d3e6-42f4-a25d-a3e98aa09be8"
      },
      "execution_count": 2,
      "outputs": [
        {
          "output_type": "stream",
          "name": "stdout",
          "text": [
            "age KS p= 0.9945691084550815\n",
            "income KS p= 0.8161279034909104\n",
            "web_visits KS p= 0.5409210151069745\n",
            "prior_purch Chi2 p= 0.6481883067259084\n",
            "segment Chi2 p= 1.3034091905550813e-41\n"
          ]
        },
        {
          "output_type": "execute_result",
          "data": {
            "text/plain": [
              "np.float64(0.06686020087137323)"
            ]
          },
          "metadata": {},
          "execution_count": 2
        }
      ]
    },
    {
      "cell_type": "code",
      "source": [
        "from sklearn.model_selection import train_test_split\n",
        "from sklearn.preprocessing import OneHotEncoder\n",
        "from sklearn.compose import ColumnTransformer\n",
        "from sklearn.pipeline import Pipeline\n",
        "from sklearn.metrics import roc_auc_score\n",
        "from sklearn.ensemble import GradientBoostingClassifier, RandomForestClassifier\n",
        "import numpy as np\n",
        "\n",
        "X = df.drop(columns=[\"purchase\"])\n",
        "y = df[\"purchase\"].values\n",
        "cat = [\"segment\"]\n",
        "num = [\"age\",\"income\",\"web_visits\",\"prior_purch\",\"treatment\"]\n",
        "\n",
        "pre = ColumnTransformer([\n",
        "    (\"num\",\"passthrough\", num),\n",
        "    (\"cat\", OneHotEncoder(handle_unknown=\"ignore\"), cat)\n",
        "])\n",
        "\n",
        "X_tr, X_te, y_tr, y_te = train_test_split(X, y, test_size=0.3, stratify=df[\"treatment\"], random_state=42)\n",
        "\n",
        "# Split train by treatment\n",
        "tr = X_tr[\"treatment\"].values==1\n",
        "cr = X_tr[\"treatment\"].values==0\n",
        "\n",
        "# two models\n",
        "clf_t = Pipeline([(\"pre\", pre), (\"gb\", GradientBoostingClassifier(random_state=42))]).fit(X_tr[tr], y_tr[tr])\n",
        "clf_c = Pipeline([(\"pre\", pre), (\"gb\", GradientBoostingClassifier(random_state=42))]).fit(X_tr[cr], y_tr[cr])\n",
        "\n",
        "# predicted uplift = P(y=1|T=1,x) - P(y=1|T=0,x)\n",
        "p_t = clf_t.predict_proba(X_te)[:,1]\n",
        "p_c = clf_c.predict_proba(X_te)[:,1]\n",
        "uplift_tm = p_t - p_c\n",
        "uplift_tm[:5]\n"
      ],
      "metadata": {
        "colab": {
          "base_uri": "https://localhost:8080/"
        },
        "id": "Jcomd3g1V6x-",
        "outputId": "0cbde2d2-a788-4c6d-af33-5046dc28a0bb"
      },
      "execution_count": 3,
      "outputs": [
        {
          "output_type": "execute_result",
          "data": {
            "text/plain": [
              "array([ 0.00690799,  0.01682039,  0.05285231, -0.07365567,  0.20381214])"
            ]
          },
          "metadata": {},
          "execution_count": 3
        }
      ]
    },
    {
      "cell_type": "code",
      "source": [
        "from sklearn.ensemble import RandomForestClassifier\n",
        "clf_t2 = Pipeline([(\"pre\", pre), (\"rf\", RandomForestClassifier(n_estimators=400, random_state=42,n_jobs=-1))]).fit(X_tr[tr], y_tr[tr])\n",
        "clf_c2 = Pipeline([(\"pre\", pre), (\"rf\", RandomForestClassifier(n_estimators=400, random_state=42,n_jobs=-1))]).fit(X_tr[cr], y_tr[cr])\n",
        "\n",
        "uplift_tl = clf_t2.predict_proba(X_te)[:,1] - clf_c2.predict_proba(X_te)[:,1]\n",
        "uplift_tl[:5]\n"
      ],
      "metadata": {
        "colab": {
          "base_uri": "https://localhost:8080/"
        },
        "id": "j1kq4j6-WJMO",
        "outputId": "6335bd01-af1a-4d78-a3b0-ec9c3318b097"
      },
      "execution_count": 4,
      "outputs": [
        {
          "output_type": "execute_result",
          "data": {
            "text/plain": [
              "array([-0.04  , -0.29  , -0.0425, -0.005 , -0.1   ])"
            ]
          },
          "metadata": {},
          "execution_count": 4
        }
      ]
    },
    {
      "cell_type": "code",
      "source": [
        "import numpy as np, pandas as pd\n",
        "def qini_auc(uplift, y, t, frac_bins=20):\n",
        "    # rank by predicted uplift desc\n",
        "    order = np.argsort(-uplift)\n",
        "    y, t = y[order], t[order]\n",
        "    n = len(y); step = n//frac_bins\n",
        "    gains = [0]; treated_cum=0; control_cum=0; uplift_cum=0\n",
        "    for i in range(step, n+step, step):\n",
        "        idx = slice(0, min(i,n))\n",
        "        yt, yc = y[idx][t[idx]==1], y[idx][t[idx]==0]\n",
        "        gains.append( (yt.mean() if yt.size else 0) - (yc.mean() if yc.size else 0) )\n",
        "    gains = np.cumsum(gains)\n",
        "    auuc = np.trapz(gains, dx=1/frac_bins)\n",
        "    return gains, auuc\n",
        "\n",
        "y_te_arr = y_te\n",
        "t_te_arr = X_te[\"treatment\"].values\n",
        "\n",
        "g_tm, auuc_tm = qini_auc(uplift_tm, y_te_arr, t_te_arr)\n",
        "g_tl, auuc_tl = qini_auc(uplift_tl, y_te_arr, t_te_arr)\n",
        "auuc_tm, auuc_tl\n"
      ],
      "metadata": {
        "colab": {
          "base_uri": "https://localhost:8080/"
        },
        "id": "q0IJf_5QWOiw",
        "outputId": "dfe8d0ec-71d9-49b0-96aa-4ba538c4fd48"
      },
      "execution_count": 5,
      "outputs": [
        {
          "output_type": "stream",
          "name": "stderr",
          "text": [
            "/tmp/ipython-input-2182844327.py:13: DeprecationWarning: `trapz` is deprecated. Use `trapezoid` instead, or one of the numerical integration functions in `scipy.integrate`.\n",
            "  auuc = np.trapz(gains, dx=1/frac_bins)\n"
          ]
        },
        {
          "output_type": "execute_result",
          "data": {
            "text/plain": [
              "(np.float64(1.8095321885426345), np.float64(1.2921724000875983))"
            ]
          },
          "metadata": {},
          "execution_count": 5
        }
      ]
    },
    {
      "cell_type": "code",
      "source": [
        "import joblib\n",
        "import numpy as np\n",
        "import pandas as pd\n",
        "from sklearn.pipeline import Pipeline\n",
        "\n",
        "# Reuse your fitted pipelines: clf_t, clf_c, and the test features list\n",
        "joblib.dump({\"t\": clf_t, \"c\": clf_c}, \"uplift_two_model.joblib\")\n",
        "\n",
        "# optional: a tiny helper to compute uplift on a DataFrame\n",
        "def predict_uplift(df_input):\n",
        "    models = joblib.load(\"uplift_two_model.joblib\")\n",
        "    p_t = models[\"t\"].predict_proba(df_input)[:,1]\n",
        "    p_c = models[\"c\"].predict_proba(df_input)[:,1]\n",
        "    return p_t - p_c\n",
        "# quick smoke test\n",
        "X_te.head(1), float(predict_uplift(X_te.head(1)))\n"
      ],
      "metadata": {
        "colab": {
          "base_uri": "https://localhost:8080/"
        },
        "id": "vPBVf3PAWX3Y",
        "outputId": "a827d427-53a6-437e-b0b7-4c05ccb88284"
      },
      "execution_count": 6,
      "outputs": [
        {
          "output_type": "stream",
          "name": "stderr",
          "text": [
            "/tmp/ipython-input-2694235269.py:16: DeprecationWarning: Conversion of an array with ndim > 0 to a scalar is deprecated, and will error in future. Ensure you extract a single element from your array before performing this operation. (Deprecated NumPy 1.25.)\n",
            "  X_te.head(1), float(predict_uplift(X_te.head(1)))\n"
          ]
        },
        {
          "output_type": "execute_result",
          "data": {
            "text/plain": [
              "(       age        income  web_visits  prior_purch segment  treatment\n",
              " 59056   23  29117.232086           1            0       B          0,\n",
              " 0.006907987049430197)"
            ]
          },
          "metadata": {},
          "execution_count": 6
        }
      ]
    },
    {
      "cell_type": "code",
      "source": [
        "# In your Colab notebook\n",
        "import pandas as pd\n",
        "from sklearn.model_selection import train_test_split\n",
        "\n",
        "df = pd.read_csv(\"marketoria_uplift.csv\")\n",
        "X = df.drop(columns=[\"purchase\"])\n",
        "_, H = train_test_split(X, test_size=0.3, stratify=df[\"treatment\"], random_state=42)\n",
        "H.to_csv(\"marketoria_holdout.csv\", index=False)\n"
      ],
      "metadata": {
        "id": "uV61cfJpXRh6"
      },
      "execution_count": 7,
      "outputs": []
    },
    {
      "cell_type": "code",
      "source": [
        "# Cell: Qini helpers\n",
        "import numpy as np\n",
        "import pandas as pd\n",
        "import matplotlib.pyplot as plt\n",
        "\n",
        "def qini_curve(uplift, y, t, frac_bins: int = 20):\n",
        "    \"\"\"\n",
        "    Build Qini / uplift gains curve.\n",
        "    uplift: predicted uplift scores (len n)\n",
        "    y:      binary outcome (0/1)\n",
        "    t:      treatment indicator (0/1)\n",
        "    Returns: DataFrame with columns:\n",
        "      'frac_targeted', 'gain', 'cum_gain'\n",
        "    And the AUUC (area under uplift curve).\n",
        "    \"\"\"\n",
        "    uplift = np.asarray(uplift).reshape(-1)\n",
        "    y = np.asarray(y).astype(int).reshape(-1)\n",
        "    t = np.asarray(t).astype(int).reshape(-1)\n",
        "\n",
        "    # rank by predicted uplift (desc)\n",
        "    order = np.argsort(-uplift)\n",
        "    y = y[order]\n",
        "    t = t[order]\n",
        "\n",
        "    n = len(y)\n",
        "    step = max(1, n // frac_bins)\n",
        "\n",
        "    # cumulative treated/control positives\n",
        "    cum_gain = []\n",
        "    for end in range(step, n + 1, step):\n",
        "        idx = slice(0, end)\n",
        "        # mean outcome in treated among top-k\n",
        "        yt = y[idx][t[idx] == 1]\n",
        "        yc = y[idx][t[idx] == 0]\n",
        "        mt = yt.mean() if yt.size else 0.0\n",
        "        mc = yc.mean() if yc.size else 0.0\n",
        "        # Qini: difference in mean outcomes at each slice\n",
        "        cum_gain.append(mt - mc)\n",
        "\n",
        "    gains = np.array(cum_gain)\n",
        "    frac_targeted = np.arange(step, n + 1, step) / n\n",
        "\n",
        "    # area under uplift curve\n",
        "    auuc = np.trapezoid(gains, x=frac_targeted)\n",
        "\n",
        "    df = pd.DataFrame({\n",
        "        \"frac_targeted\": frac_targeted,\n",
        "        \"gain\": gains,\n",
        "        \"cum_gain\": gains  # just an alias; can rename if you prefer\n",
        "    })\n",
        "    return df, float(auuc)\n",
        "\n",
        "def qini_plot(curves, title=\"Qini / Uplift Gains\"):\n",
        "    \"\"\"\n",
        "    curves: list of tuples (label, df_curve, auuc_float)\n",
        "    \"\"\"\n",
        "    plt.figure(figsize=(7,5))\n",
        "    for label, dfc, area in curves:\n",
        "        plt.plot(dfc[\"frac_targeted\"], dfc[\"cum_gain\"], label=f\"{label} (AUUC={area:.3f})\")\n",
        "    # random baseline around 0\n",
        "    xs = np.linspace(0,1,50)\n",
        "    plt.plot(xs, np.zeros_like(xs), \"--\", alpha=0.6, label=\"random baseline\")\n",
        "    plt.xlabel(\"Fraction targeted\")\n",
        "    plt.ylabel(\"Incremental gain (treated − control)\")\n",
        "    plt.title(title)\n",
        "    plt.legend()\n",
        "    plt.grid(alpha=0.25)\n",
        "    plt.show()\n"
      ],
      "metadata": {
        "id": "3J54sPMrZNDi"
      },
      "execution_count": 9,
      "outputs": []
    },
    {
      "cell_type": "code",
      "source": [
        "# Cell: Build & plot curves for two models\n",
        "# Example variables (you likely already have them):\n",
        "# uplift_tm  = uplift from two-model GradientBoosting\n",
        "# uplift_tl  = uplift from T-learner RandomForest\n",
        "# y_te_arr   = y_test values (0/1)\n",
        "# t_te_arr   = treatment flags (0/1)\n",
        "\n",
        "curve_tm, auuc_tm = qini_curve(uplift_tm, y_te_arr, t_te_arr, frac_bins=20)\n",
        "curve_tl, auuc_tl = qini_curve(uplift_tl, y_te_arr, t_te_arr, frac_bins=20)\n",
        "\n",
        "qini_plot([\n",
        "    (\"Two-model (GB)\", curve_tm, auuc_tm),\n",
        "    (\"T-learner (RF)\", curve_tl, auuc_tl),\n",
        "], title=\"Marketoria — Qini Curves\")\n",
        "\n",
        "print({\"AUUC_two_model\": round(auuc_tm, 4), \"AUUC_t_learner\": round(auuc_tl, 4)})\n"
      ],
      "metadata": {
        "colab": {
          "base_uri": "https://localhost:8080/",
          "height": 504
        },
        "id": "zBWZaJ6tb2J3",
        "outputId": "0e6dd650-c6a6-481a-a888-e88579099566"
      },
      "execution_count": 10,
      "outputs": [
        {
          "output_type": "display_data",
          "data": {
            "text/plain": [
              "<Figure size 700x500 with 1 Axes>"
            ],
            "image/png": "[encoded data removed]"
          },
          "metadata": {}
        },
        {
          "output_type": "stream",
          "name": "stdout",
          "text": [
            "{'AUUC_two_model': 0.1352, 'AUUC_t_learner': 0.1019}\n"
          ]
        }
      ]
    },
    {
      "cell_type": "code",
      "source": [
        "# Cell 1: Qini helpers\n",
        "import numpy as np\n",
        "import pandas as pd\n",
        "import matplotlib.pyplot as plt\n",
        "\n",
        "def qini_curve(uplift, y, t, frac_bins: int = 20):\n",
        "    \"\"\"\n",
        "    Build Qini / uplift gains curve.\n",
        "\n",
        "    uplift: predicted uplift scores (len n)\n",
        "    y:      binary outcome (0/1)\n",
        "    t:      treatment indicator (0/1)\n",
        "    Returns:\n",
        "      df:   DataFrame with columns ['frac_targeted','gain','cum_gain']\n",
        "      auuc: area under uplift curve (float)\n",
        "    \"\"\"\n",
        "    uplift = np.asarray(uplift).reshape(-1)\n",
        "    y = np.asarray(y).astype(int).reshape(-1)\n",
        "    t = np.asarray(t).astype(int).reshape(-1)\n",
        "\n",
        "    # rank by predicted uplift (desc)\n",
        "    order = np.argsort(-uplift)\n",
        "    y, t = y[order], t[order]\n",
        "\n",
        "    n = len(y)\n",
        "    step = max(1, n // frac_bins)\n",
        "\n",
        "    # cumulative treated/control positives slice-by-slice\n",
        "    cum_gain = []\n",
        "    for end in range(step, n + 1, step):\n",
        "        idx = slice(0, end)\n",
        "        yt = y[idx][t[idx] == 1]\n",
        "        yc = y[idx][t[idx] == 0]\n",
        "        mt = yt.mean() if yt.size else 0.0\n",
        "        mc = yc.mean() if yc.size else 0.0\n",
        "        # Qini = treated mean - control mean at each slice\n",
        "        cum_gain.append(mt - mc)\n",
        "\n",
        "    gains = np.array(cum_gain)\n",
        "    frac_targeted = np.arange(step, n + 1, step) / n\n",
        "\n",
        "    # area under uplift curve (AUUC)\n",
        "    # (np.trapezoid is new name; trapezoid works on recent NumPy)\n",
        "    try:\n",
        "        auuc = np.trapezoid(gains, x=frac_targeted)\n",
        "    except Exception:\n",
        "        auuc = np.trapz(gains, x=frac_targeted)\n",
        "\n",
        "    df = pd.DataFrame({\n",
        "        \"frac_targeted\": frac_targeted,\n",
        "        \"gain\": gains,\n",
        "        \"cum_gain\": gains   # alias; keep if you prefer 'cum_gain'\n",
        "    })\n",
        "    return df, float(auuc)\n",
        "\n",
        "def qini_plot(curves, title=\"Marketoria — Qini Curves\"):\n",
        "    \"\"\"\n",
        "    curves: list of tuples (label: str, df_curve: pd.DataFrame, auuc: float)\n",
        "    returns: matplotlib Figure\n",
        "    \"\"\"\n",
        "    fig = plt.figure(figsize=(7, 5))\n",
        "    for label, dfc, area in curves:\n",
        "        plt.plot(dfc[\"frac_targeted\"], dfc[\"cum_gain\"],\n",
        "                 label=f\"{label} (AUUC={area:.3f})\")\n",
        "    # random baseline ~ 0\n",
        "    xs = np.linspace(0, 1, 50)\n",
        "    plt.plot(xs, np.zeros_like(xs), \"--\", alpha=0.6, label=\"random baseline\")\n",
        "    plt.xlabel(\"Fraction targeted\")\n",
        "    plt.ylabel(\"Incremental gain (treated – control)\")\n",
        "    plt.title(title)\n",
        "    plt.grid(alpha=0.25)\n",
        "    plt.legend()\n",
        "    plt.tight_layout()\n",
        "    return fig\n"
      ],
      "metadata": {
        "id": "ZpDTtr7-cBFe"
      },
      "execution_count": 11,
      "outputs": []
    },
    {
      "cell_type": "code",
      "source": [
        "# Cell 2: Build + plot + save + download\n",
        "\n",
        "# If needed, uncomment and wire up your existing variables:\n",
        "# uplift_tm = ...  # two-model uplift scores on test set\n",
        "# uplift_tl = ...  # T-learner uplift scores on test set\n",
        "# y_te_arr  = ...  # 0/1 outcomes\n",
        "# t_te_arr  = ...  # 0/1 treatment flags\n",
        "\n",
        "# Build curves\n",
        "curve_tm, auuc_tm = qini_curve(uplift_tm, y_te_arr, t_te_arr, frac_bins=20)\n",
        "curve_tl, auuc_tl = qini_curve(uplift_tl, y_te_arr, t_te_arr, frac_bins=20)\n",
        "\n",
        "# Plot\n",
        "fig = qini_plot([\n",
        "    (\"Two-model (GB)\", curve_tm, auuc_tm),\n",
        "    (\"T-learner (RF)\", curve_tl, auuc_tl),\n",
        "])\n",
        "\n",
        "print({\"AUUC_two_model\": round(auuc_tm, 4), \"AUUC_t_learner\": round(auuc_tl, 4)})\n",
        "\n",
        "# Save PNG + CSVs\n",
        "png_path = \"qini_curves.png\"\n",
        "fig.savefig(png_path, dpi=160)\n",
        "\n",
        "curve_tm.assign(model=\"two_model\").to_csv(\"qini_curve_two_model.csv\", index=False)\n",
        "curve_tl.assign(model=\"t_learner\").to_csv(\"qini_curve_t_learner.csv\", index=False)\n",
        "\n",
        "# One combined CSV (optional)\n",
        "pd.concat([\n",
        "    curve_tm.assign(model=\"two_model\"),\n",
        "    curve_tl.assign(model=\"t_learner\")\n",
        "], ignore_index=True).to_csv(\"qini_curves_combined.csv\", index=False)\n",
        "\n",
        "# Offer downloads in Colab\n",
        "try:\n",
        "    from google.colab import files\n",
        "    files.download(png_path)\n",
        "    files.download(\"qini_curves_combined.csv\")\n",
        "except Exception as e:\n",
        "    # Not on Colab: print paths so you can fetch them from the notebook files pane\n",
        "    print(\"Saved files:\", png_path, \"qini_curves_combined.csv\")\n"
      ],
      "metadata": {
        "colab": {
          "base_uri": "https://localhost:8080/",
          "height": 524
        },
        "id": "SPW03g6NdQEM",
        "outputId": "533a2c23-a0c5-446c-d419-1cbc0d5e4190"
      },
      "execution_count": 12,
      "outputs": [
        {
          "output_type": "stream",
          "name": "stdout",
          "text": [
            "{'AUUC_two_model': 0.1352, 'AUUC_t_learner': 0.1019}\n"
          ]
        },
        {
          "output_type": "display_data",
          "data": {
            "text/plain": [
              "<IPython.core.display.Javascript object>"
            ],
            "application/javascript": [
              "\n",
              "    async function download(id, filename, size) {\n",
              "      if (!google.colab.kernel.accessAllowed) {\n",
              "        return;\n",
              "      }\n",
              "      const div = document.createElement('div');\n",
              "      const label = document.createElement('label');\n",
              "      label.textContent = `Downloading \"${filename}\": `;\n",
              "      div.appendChild(label);\n",
              "      const progress = document.createElement('progress');\n",
              "      progress.max = size;\n",
              "      div.appendChild(progress);\n",
              "      document.body.appendChild(div);\n",
              "\n",
              "      const buffers = [];\n",
              "      let downloaded = 0;\n",
              "\n",
              "      const channel = await google.colab.kernel.comms.open(id);\n",
              "      // Send a message to notify the kernel that we're ready.\n",
              "      channel.send({})\n",
              "\n",
              "      for await (const message of channel.messages) {\n",
              "        // Send a message to notify the kernel that we're ready.\n",
              "        channel.send({})\n",
              "        if (message.buffers) {\n",
              "          for (const buffer of message.buffers) {\n",
              "            buffers.push(buffer);\n",
              "            downloaded += buffer.byteLength;\n",
              "            progress.value = downloaded;\n",
              "          }\n",
              "        }\n",
              "      }\n",
              "      const blob = new Blob(buffers, {type: 'application/binary'});\n",
              "      const a = document.createElement('a');\n",
              "      a.href = window.URL.createObjectURL(blob);\n",
              "      a.download = filename;\n",
              "      div.appendChild(a);\n",
              "      a.click();\n",
              "      div.remove();\n",
              "    }\n",
              "  "
            ]
          },
          "metadata": {}
        },
        {
          "output_type": "display_data",
          "data": {
            "text/plain": [
              "<IPython.core.display.Javascript object>"
            ],
            "application/javascript": [
              "download(\"download_eb4797de-9965-4e04-92a5-cdb4ed14e7d0\", \"qini_curves.png\", 79891)"
            ]
          },
          "metadata": {}
        },
        {
          "output_type": "display_data",
          "data": {
            "text/plain": [
              "<IPython.core.display.Javascript object>"
            ],
            "application/javascript": [
              "\n",
              "    async function download(id, filename, size) {\n",
              "      if (!google.colab.kernel.accessAllowed) {\n",
              "        return;\n",
              "      }\n",
              "      const div = document.createElement('div');\n",
              "      const label = document.createElement('label');\n",
              "      label.textContent = `Downloading \"${filename}\": `;\n",
              "      div.appendChild(label);\n",
              "      const progress = document.createElement('progress');\n",
              "      progress.max = size;\n",
              "      div.appendChild(progress);\n",
              "      document.body.appendChild(div);\n",
              "\n",
              "      const buffers = [];\n",
              "      let downloaded = 0;\n",
              "\n",
              "      const channel = await google.colab.kernel.comms.open(id);\n",
              "      // Send a message to notify the kernel that we're ready.\n",
              "      channel.send({})\n",
              "\n",
              "      for await (const message of channel.messages) {\n",
              "        // Send a message to notify the kernel that we're ready.\n",
              "        channel.send({})\n",
              "        if (message.buffers) {\n",
              "          for (const buffer of message.buffers) {\n",
              "            buffers.push(buffer);\n",
              "            downloaded += buffer.byteLength;\n",
              "            progress.value = downloaded;\n",
              "          }\n",
              "        }\n",
              "      }\n",
              "      const blob = new Blob(buffers, {type: 'application/binary'});\n",
              "      const a = document.createElement('a');\n",
              "      a.href = window.URL.createObjectURL(blob);\n",
              "      a.download = filename;\n",
              "      div.appendChild(a);\n",
              "      a.click();\n",
              "      div.remove();\n",
              "    }\n",
              "  "
            ]
          },
          "metadata": {}
        },
        {
          "output_type": "display_data",
          "data": {
            "text/plain": [
              "<IPython.core.display.Javascript object>"
            ],
            "application/javascript": [
              "download(\"download_c1c20a9a-3f7d-4f7f-bf23-b237c5000cdb\", \"qini_curves_combined.csv\", 2204)"
            ]
          },
          "metadata": {}
        },
        {
          "output_type": "display_data",
          "data": {
            "text/plain": [
              "<Figure size 700x500 with 1 Axes>"
            ],
            "image/png": "[encoded data removed]"
          },
          "metadata": {}
        }
      ]
    },
    {
      "cell_type": "code",
      "source": [],
      "metadata": {
        "id": "u9Ryf4DRdSF7"
      },
      "execution_count": null,
      "outputs": []
    }
  ]
}